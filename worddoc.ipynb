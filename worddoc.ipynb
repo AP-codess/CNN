{
 "cells": [
  {
   "cell_type": "code",
   "execution_count": 1,
   "id": "bf232985",
   "metadata": {},
   "outputs": [
    {
     "ename": "ModuleNotFoundError",
     "evalue": "No module named 'docx'",
     "output_type": "error",
     "traceback": [
      "\u001b[31m---------------------------------------------------------------------------\u001b[39m",
      "\u001b[31mModuleNotFoundError\u001b[39m                       Traceback (most recent call last)",
      "\u001b[36mCell\u001b[39m\u001b[36m \u001b[39m\u001b[32mIn[1]\u001b[39m\u001b[32m, line 1\u001b[39m\n\u001b[32m----> \u001b[39m\u001b[32m1\u001b[39m \u001b[38;5;28;01mfrom\u001b[39;00m\u001b[38;5;250m \u001b[39m\u001b[34;01mdocx\u001b[39;00m\u001b[38;5;250m \u001b[39m\u001b[38;5;28;01mimport\u001b[39;00m Document\n\u001b[32m      2\u001b[39m \u001b[38;5;28;01mfrom\u001b[39;00m\u001b[38;5;250m \u001b[39m\u001b[34;01mdocx\u001b[39;00m\u001b[34;01m.\u001b[39;00m\u001b[34;01mshared\u001b[39;00m\u001b[38;5;250m \u001b[39m\u001b[38;5;28;01mimport\u001b[39;00m Pt\n\u001b[32m      3\u001b[39m \u001b[38;5;28;01mfrom\u001b[39;00m\u001b[38;5;250m \u001b[39m\u001b[34;01mio\u001b[39;00m\u001b[38;5;250m \u001b[39m\u001b[38;5;28;01mimport\u001b[39;00m BytesIO\n",
      "\u001b[31mModuleNotFoundError\u001b[39m: No module named 'docx'"
     ]
    }
   ],
   "source": [
    "from docx import Document\n",
    "from docx.shared import Pt\n",
    "from io import BytesIO\n",
    "\n",
    "# Helper function to add a labeled shape-like text box\n",
    "def add_layer(doc, text, level=0):\n",
    "    p = doc.add_paragraph()\n",
    "    run = p.add_run(text)\n",
    "    font = run.font\n",
    "    font.name = 'Courier New'\n",
    "    font.size = Pt(10)\n",
    "    p.paragraph_format.left_indent = Pt(level * 20)\n",
    "    p.paragraph_format.space_after = Pt(6)\n",
    "\n",
    "# Create the Word document\n",
    "doc = Document()\n",
    "doc.add_heading('MNISTTransformer Model Diagram', level=1)\n",
    "doc.add_paragraph('Editable structural diagram of the MNISTTransformer model architecture. Each layer is indented to represent hierarchy and sequence.')\n",
    "\n",
    "# Build the diagram with indentation for hierarchy\n",
    "add_layer(doc, 'Input: 28x28 Image', level=0)\n",
    "add_layer(doc, '↓', level=0)\n",
    "add_layer(doc, 'Linear(in_features=28, out_features=128)  # Embedding', level=1)\n",
    "add_layer(doc, '↓', level=1)\n",
    "add_layer(doc, 'PositionalEncoding()', level=1)\n",
    "add_layer(doc, '↓', level=1)\n",
    "add_layer(doc, 'TransformerEncoder (2 Layers)', level=1)\n",
    "\n",
    "for i in range(2):\n",
    "    add_layer(doc, f'→ TransformerEncoderLayer {i+1}', level=2)\n",
    "    add_layer(doc, 'MultiheadAttention(embed_dim=128)', level=3)\n",
    "    add_layer(doc, 'Feedforward: Linear(128 → 256 → 128)', level=3)\n",
    "    add_layer(doc, 'LayerNorm + Dropout', level=3)\n",
    "\n",
    "add_layer(doc, '↓', level=1)\n",
    "add_layer(doc, 'Linear(in_features=128, out_features=10)  # Classifier', level=1)\n",
    "add_layer(doc, '↓', level=1)\n",
    "add_layer(doc, 'Output: 10 classes (digits 0–9)', level=1)\n",
    "\n",
    "# Save the document\n",
    "doc.save(\"MNISTTransformer_Diagram.docx\")\n"
   ]
  },
  {
   "cell_type": "code",
   "execution_count": null,
   "id": "a3e1c079",
   "metadata": {},
   "outputs": [],
   "source": []
  },
  {
   "cell_type": "code",
   "execution_count": null,
   "id": "39188d5d",
   "metadata": {},
   "outputs": [],
   "source": []
  }
 ],
 "metadata": {
  "kernelspec": {
   "display_name": "Python 3",
   "language": "python",
   "name": "python3"
  },
  "language_info": {
   "codemirror_mode": {
    "name": "ipython",
    "version": 3
   },
   "file_extension": ".py",
   "mimetype": "text/x-python",
   "name": "python",
   "nbconvert_exporter": "python",
   "pygments_lexer": "ipython3",
   "version": "3.12.9"
  }
 },
 "nbformat": 4,
 "nbformat_minor": 5
}
